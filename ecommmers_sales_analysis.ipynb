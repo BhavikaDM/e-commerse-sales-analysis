{
 "cells": [
  {
   "cell_type": "code",
   "execution_count": 3,
   "id": "e5e406cd-fb13-4137-9771-3a123622f608",
   "metadata": {},
   "outputs": [],
   "source": [
    "import pandas as pd\n",
    "import numpy as np\n",
    "import seaborn as sns\n",
    "import matplotlib.pyplot as plt"
   ]
  },
  {
   "cell_type": "code",
   "execution_count": 5,
   "id": "1379e319-85fb-42bb-be7c-455c918a0137",
   "metadata": {},
   "outputs": [],
   "source": [
    "df = pd.read_csv(r\"C:\\Users\\bhavi\\Desktop\\E-commerce sales analysis\\women_clothing_ecommerce_sales.csv\")"
   ]
  },
  {
   "cell_type": "code",
   "execution_count": 15,
   "id": "9fc8f784-e1a5-4151-8b36-3b5cf71b864a",
   "metadata": {},
   "outputs": [
    {
     "data": {
      "text/plain": [
       "(527, 8)"
      ]
     },
     "execution_count": 15,
     "metadata": {},
     "output_type": "execute_result"
    }
   ],
   "source": [
    "df.shape"
   ]
  },
  {
   "cell_type": "code",
   "execution_count": 17,
   "id": "b769a801-3357-44bb-be6d-71467119b975",
   "metadata": {},
   "outputs": [
    {
     "data": {
      "text/plain": [
       "Index(['order_id', 'order_date', 'sku', 'color', 'size', 'unit_price',\n",
       "       'quantity', 'revenue'],\n",
       "      dtype='object')"
      ]
     },
     "execution_count": 17,
     "metadata": {},
     "output_type": "execute_result"
    }
   ],
   "source": [
    "df.columns"
   ]
  },
  {
   "cell_type": "code",
   "execution_count": 19,
   "id": "28596e1d-dc09-4966-9a22-8b5875bc1f6c",
   "metadata": {},
   "outputs": [
    {
     "data": {
      "text/html": [
       "<div>\n",
       "<style scoped>\n",
       "    .dataframe tbody tr th:only-of-type {\n",
       "        vertical-align: middle;\n",
       "    }\n",
       "\n",
       "    .dataframe tbody tr th {\n",
       "        vertical-align: top;\n",
       "    }\n",
       "\n",
       "    .dataframe thead th {\n",
       "        text-align: right;\n",
       "    }\n",
       "</style>\n",
       "<table border=\"1\" class=\"dataframe\">\n",
       "  <thead>\n",
       "    <tr style=\"text-align: right;\">\n",
       "      <th></th>\n",
       "      <th>order_id</th>\n",
       "      <th>order_date</th>\n",
       "      <th>sku</th>\n",
       "      <th>color</th>\n",
       "      <th>size</th>\n",
       "      <th>unit_price</th>\n",
       "      <th>quantity</th>\n",
       "      <th>revenue</th>\n",
       "    </tr>\n",
       "  </thead>\n",
       "  <tbody>\n",
       "    <tr>\n",
       "      <th>0</th>\n",
       "      <td>1</td>\n",
       "      <td>2022/6/1 16:05:00</td>\n",
       "      <td>708</td>\n",
       "      <td>Dark Blue</td>\n",
       "      <td>2XL</td>\n",
       "      <td>298</td>\n",
       "      <td>1</td>\n",
       "      <td>298</td>\n",
       "    </tr>\n",
       "    <tr>\n",
       "      <th>1</th>\n",
       "      <td>1</td>\n",
       "      <td>2022/6/1 16:05:00</td>\n",
       "      <td>89</td>\n",
       "      <td>Dark Blue</td>\n",
       "      <td>2XL</td>\n",
       "      <td>258</td>\n",
       "      <td>1</td>\n",
       "      <td>258</td>\n",
       "    </tr>\n",
       "    <tr>\n",
       "      <th>2</th>\n",
       "      <td>2</td>\n",
       "      <td>2022/6/10 17:03:00</td>\n",
       "      <td>bobo</td>\n",
       "      <td>Cream</td>\n",
       "      <td>One Size</td>\n",
       "      <td>228</td>\n",
       "      <td>1</td>\n",
       "      <td>228</td>\n",
       "    </tr>\n",
       "    <tr>\n",
       "      <th>3</th>\n",
       "      <td>3</td>\n",
       "      <td>2022/6/10 19:59:00</td>\n",
       "      <td>799</td>\n",
       "      <td>Dark Blue</td>\n",
       "      <td>XL</td>\n",
       "      <td>264</td>\n",
       "      <td>1</td>\n",
       "      <td>264</td>\n",
       "    </tr>\n",
       "    <tr>\n",
       "      <th>4</th>\n",
       "      <td>4</td>\n",
       "      <td>2022/6/11 11:42:00</td>\n",
       "      <td>799</td>\n",
       "      <td>Dark Blue</td>\n",
       "      <td>M</td>\n",
       "      <td>264</td>\n",
       "      <td>1</td>\n",
       "      <td>264</td>\n",
       "    </tr>\n",
       "  </tbody>\n",
       "</table>\n",
       "</div>"
      ],
      "text/plain": [
       "   order_id          order_date   sku      color      size  unit_price  \\\n",
       "0         1   2022/6/1 16:05:00   708  Dark Blue       2XL         298   \n",
       "1         1   2022/6/1 16:05:00    89  Dark Blue       2XL         258   \n",
       "2         2  2022/6/10 17:03:00  bobo      Cream  One Size         228   \n",
       "3         3  2022/6/10 19:59:00   799  Dark Blue        XL         264   \n",
       "4         4  2022/6/11 11:42:00   799  Dark Blue         M         264   \n",
       "\n",
       "   quantity  revenue  \n",
       "0         1      298  \n",
       "1         1      258  \n",
       "2         1      228  \n",
       "3         1      264  \n",
       "4         1      264  "
      ]
     },
     "execution_count": 19,
     "metadata": {},
     "output_type": "execute_result"
    }
   ],
   "source": [
    "df.head(5)"
   ]
  },
  {
   "cell_type": "code",
   "execution_count": 21,
   "id": "6e49d20b-1e2e-4ff3-beb5-a81ab031f77a",
   "metadata": {},
   "outputs": [
    {
     "name": "stdout",
     "output_type": "stream",
     "text": [
      "<class 'pandas.core.frame.DataFrame'>\n",
      "RangeIndex: 527 entries, 0 to 526\n",
      "Data columns (total 8 columns):\n",
      " #   Column      Non-Null Count  Dtype \n",
      "---  ------      --------------  ----- \n",
      " 0   order_id    527 non-null    int64 \n",
      " 1   order_date  527 non-null    object\n",
      " 2   sku         527 non-null    object\n",
      " 3   color       527 non-null    object\n",
      " 4   size        490 non-null    object\n",
      " 5   unit_price  527 non-null    int64 \n",
      " 6   quantity    527 non-null    int64 \n",
      " 7   revenue     527 non-null    int64 \n",
      "dtypes: int64(4), object(4)\n",
      "memory usage: 33.1+ KB\n"
     ]
    }
   ],
   "source": [
    "df.info()"
   ]
  },
  {
   "cell_type": "code",
   "execution_count": 23,
   "id": "2069474c-022f-4b52-9148-fa2cf7e3ddf0",
   "metadata": {},
   "outputs": [
    {
     "data": {
      "text/plain": [
       "order_id       0\n",
       "order_date     0\n",
       "sku            0\n",
       "color          0\n",
       "size          37\n",
       "unit_price     0\n",
       "quantity       0\n",
       "revenue        0\n",
       "dtype: int64"
      ]
     },
     "execution_count": 23,
     "metadata": {},
     "output_type": "execute_result"
    }
   ],
   "source": [
    "df.isnull().sum()"
   ]
  },
  {
   "cell_type": "code",
   "execution_count": 25,
   "id": "8550b73f-bb01-4be5-a016-ec6dcec3bbc0",
   "metadata": {},
   "outputs": [],
   "source": [
    "df = df.dropna(subset=['size'])"
   ]
  },
  {
   "cell_type": "code",
   "execution_count": 27,
   "id": "360cc7d5-1378-4cbd-9423-bdfaf361e78a",
   "metadata": {},
   "outputs": [
    {
     "name": "stdout",
     "output_type": "stream",
     "text": [
      "0\n"
     ]
    }
   ],
   "source": [
    "print(df['size'].isnull().sum())"
   ]
  },
  {
   "cell_type": "code",
   "execution_count": 29,
   "id": "92e22e91-98c1-4824-8c2b-992ab02eec6a",
   "metadata": {},
   "outputs": [
    {
     "data": {
      "text/plain": [
       "(490, 8)"
      ]
     },
     "execution_count": 29,
     "metadata": {},
     "output_type": "execute_result"
    }
   ],
   "source": [
    "df.shape"
   ]
  },
  {
   "cell_type": "code",
   "execution_count": 31,
   "id": "4ccd71a4-a59b-4b29-8356-f534675b44a5",
   "metadata": {},
   "outputs": [],
   "source": [
    "df['order_date'] = pd.to_datetime(df['order_date'], errors='coerce')"
   ]
  },
  {
   "cell_type": "code",
   "execution_count": 33,
   "id": "f493fdaf-e17a-4218-b972-19ffd9cb55e3",
   "metadata": {},
   "outputs": [],
   "source": [
    "df['order_date'] = df['order_date'].dt.strftime('%d-%m-%Y')"
   ]
  },
  {
   "cell_type": "code",
   "execution_count": 35,
   "id": "c8f2490a-25aa-415b-b9b7-c13a78f2b3c9",
   "metadata": {},
   "outputs": [
    {
     "name": "stdout",
     "output_type": "stream",
     "text": [
      "0      01-06-2022\n",
      "1      01-06-2022\n",
      "2      10-06-2022\n",
      "3      10-06-2022\n",
      "4      11-06-2022\n",
      "          ...    \n",
      "522    09-09-2022\n",
      "523    09-09-2022\n",
      "524    09-09-2022\n",
      "525    09-09-2022\n",
      "526    09-09-2022\n",
      "Name: order_date, Length: 490, dtype: object\n"
     ]
    }
   ],
   "source": [
    "print(df['order_date'])"
   ]
  },
  {
   "cell_type": "code",
   "execution_count": 79,
   "id": "08f1d2e7-1d0d-4815-be7a-d2a8006602c3",
   "metadata": {},
   "outputs": [],
   "source": [
    "df = df[df['sku'] != 'bobo']"
   ]
  },
  {
   "cell_type": "code",
   "execution_count": 41,
   "id": "33f5046f-54d4-429b-8f76-97424f73a9dc",
   "metadata": {},
   "outputs": [
    {
     "data": {
      "text/plain": [
       "(474, 8)"
      ]
     },
     "execution_count": 41,
     "metadata": {},
     "output_type": "execute_result"
    }
   ],
   "source": [
    "df.shape"
   ]
  },
  {
   "cell_type": "code",
   "execution_count": 43,
   "id": "c5ce8315-8330-4b36-b20e-f1e30ab87791",
   "metadata": {},
   "outputs": [
    {
     "data": {
      "text/html": [
       "<div>\n",
       "<style scoped>\n",
       "    .dataframe tbody tr th:only-of-type {\n",
       "        vertical-align: middle;\n",
       "    }\n",
       "\n",
       "    .dataframe tbody tr th {\n",
       "        vertical-align: top;\n",
       "    }\n",
       "\n",
       "    .dataframe thead th {\n",
       "        text-align: right;\n",
       "    }\n",
       "</style>\n",
       "<table border=\"1\" class=\"dataframe\">\n",
       "  <thead>\n",
       "    <tr style=\"text-align: right;\">\n",
       "      <th></th>\n",
       "      <th>order_id</th>\n",
       "      <th>order_date</th>\n",
       "      <th>sku</th>\n",
       "      <th>color</th>\n",
       "      <th>size</th>\n",
       "      <th>unit_price</th>\n",
       "      <th>quantity</th>\n",
       "      <th>revenue</th>\n",
       "    </tr>\n",
       "  </thead>\n",
       "  <tbody>\n",
       "    <tr>\n",
       "      <th>0</th>\n",
       "      <td>1</td>\n",
       "      <td>01-06-2022</td>\n",
       "      <td>708</td>\n",
       "      <td>Dark Blue</td>\n",
       "      <td>2XL</td>\n",
       "      <td>298</td>\n",
       "      <td>1</td>\n",
       "      <td>298</td>\n",
       "    </tr>\n",
       "    <tr>\n",
       "      <th>1</th>\n",
       "      <td>1</td>\n",
       "      <td>01-06-2022</td>\n",
       "      <td>89</td>\n",
       "      <td>Dark Blue</td>\n",
       "      <td>2XL</td>\n",
       "      <td>258</td>\n",
       "      <td>1</td>\n",
       "      <td>258</td>\n",
       "    </tr>\n",
       "    <tr>\n",
       "      <th>3</th>\n",
       "      <td>3</td>\n",
       "      <td>10-06-2022</td>\n",
       "      <td>799</td>\n",
       "      <td>Dark Blue</td>\n",
       "      <td>XL</td>\n",
       "      <td>264</td>\n",
       "      <td>1</td>\n",
       "      <td>264</td>\n",
       "    </tr>\n",
       "    <tr>\n",
       "      <th>4</th>\n",
       "      <td>4</td>\n",
       "      <td>11-06-2022</td>\n",
       "      <td>799</td>\n",
       "      <td>Dark Blue</td>\n",
       "      <td>M</td>\n",
       "      <td>264</td>\n",
       "      <td>1</td>\n",
       "      <td>264</td>\n",
       "    </tr>\n",
       "    <tr>\n",
       "      <th>5</th>\n",
       "      <td>5</td>\n",
       "      <td>11-06-2022</td>\n",
       "      <td>799</td>\n",
       "      <td>Dark Blue</td>\n",
       "      <td>XL</td>\n",
       "      <td>264</td>\n",
       "      <td>1</td>\n",
       "      <td>264</td>\n",
       "    </tr>\n",
       "    <tr>\n",
       "      <th>6</th>\n",
       "      <td>6</td>\n",
       "      <td>11-06-2022</td>\n",
       "      <td>799</td>\n",
       "      <td>Dark Blue</td>\n",
       "      <td>XL</td>\n",
       "      <td>264</td>\n",
       "      <td>1</td>\n",
       "      <td>264</td>\n",
       "    </tr>\n",
       "    <tr>\n",
       "      <th>7</th>\n",
       "      <td>7</td>\n",
       "      <td>11-06-2022</td>\n",
       "      <td>708</td>\n",
       "      <td>Dark Blue</td>\n",
       "      <td>3XL</td>\n",
       "      <td>278</td>\n",
       "      <td>1</td>\n",
       "      <td>278</td>\n",
       "    </tr>\n",
       "    <tr>\n",
       "      <th>8</th>\n",
       "      <td>8</td>\n",
       "      <td>11-06-2022</td>\n",
       "      <td>708</td>\n",
       "      <td>Dark Blue</td>\n",
       "      <td>XL</td>\n",
       "      <td>278</td>\n",
       "      <td>1</td>\n",
       "      <td>278</td>\n",
       "    </tr>\n",
       "    <tr>\n",
       "      <th>10</th>\n",
       "      <td>10</td>\n",
       "      <td>12-06-2022</td>\n",
       "      <td>708</td>\n",
       "      <td>Dark Blue</td>\n",
       "      <td>XL</td>\n",
       "      <td>278</td>\n",
       "      <td>1</td>\n",
       "      <td>278</td>\n",
       "    </tr>\n",
       "    <tr>\n",
       "      <th>11</th>\n",
       "      <td>11</td>\n",
       "      <td>12-06-2022</td>\n",
       "      <td>708</td>\n",
       "      <td>Dark Blue</td>\n",
       "      <td>3XL</td>\n",
       "      <td>278</td>\n",
       "      <td>1</td>\n",
       "      <td>278</td>\n",
       "    </tr>\n",
       "    <tr>\n",
       "      <th>12</th>\n",
       "      <td>12</td>\n",
       "      <td>12-06-2022</td>\n",
       "      <td>708</td>\n",
       "      <td>Dark Blue</td>\n",
       "      <td>3XL</td>\n",
       "      <td>278</td>\n",
       "      <td>1</td>\n",
       "      <td>278</td>\n",
       "    </tr>\n",
       "    <tr>\n",
       "      <th>13</th>\n",
       "      <td>13</td>\n",
       "      <td>13-06-2022</td>\n",
       "      <td>799</td>\n",
       "      <td>Dark Blue</td>\n",
       "      <td>XL</td>\n",
       "      <td>264</td>\n",
       "      <td>1</td>\n",
       "      <td>264</td>\n",
       "    </tr>\n",
       "    <tr>\n",
       "      <th>14</th>\n",
       "      <td>14</td>\n",
       "      <td>14-06-2022</td>\n",
       "      <td>799</td>\n",
       "      <td>Dark Blue</td>\n",
       "      <td>M</td>\n",
       "      <td>264</td>\n",
       "      <td>1</td>\n",
       "      <td>264</td>\n",
       "    </tr>\n",
       "    <tr>\n",
       "      <th>18</th>\n",
       "      <td>16</td>\n",
       "      <td>14-06-2022</td>\n",
       "      <td>708</td>\n",
       "      <td>Dark Blue</td>\n",
       "      <td>XL</td>\n",
       "      <td>278</td>\n",
       "      <td>1</td>\n",
       "      <td>278</td>\n",
       "    </tr>\n",
       "    <tr>\n",
       "      <th>19</th>\n",
       "      <td>17</td>\n",
       "      <td>15-06-2022</td>\n",
       "      <td>708</td>\n",
       "      <td>Dark Blue</td>\n",
       "      <td>2XL</td>\n",
       "      <td>278</td>\n",
       "      <td>1</td>\n",
       "      <td>278</td>\n",
       "    </tr>\n",
       "  </tbody>\n",
       "</table>\n",
       "</div>"
      ],
      "text/plain": [
       "    order_id  order_date  sku      color size  unit_price  quantity  revenue\n",
       "0          1  01-06-2022  708  Dark Blue  2XL         298         1      298\n",
       "1          1  01-06-2022   89  Dark Blue  2XL         258         1      258\n",
       "3          3  10-06-2022  799  Dark Blue   XL         264         1      264\n",
       "4          4  11-06-2022  799  Dark Blue    M         264         1      264\n",
       "5          5  11-06-2022  799  Dark Blue   XL         264         1      264\n",
       "6          6  11-06-2022  799  Dark Blue   XL         264         1      264\n",
       "7          7  11-06-2022  708  Dark Blue  3XL         278         1      278\n",
       "8          8  11-06-2022  708  Dark Blue   XL         278         1      278\n",
       "10        10  12-06-2022  708  Dark Blue   XL         278         1      278\n",
       "11        11  12-06-2022  708  Dark Blue  3XL         278         1      278\n",
       "12        12  12-06-2022  708  Dark Blue  3XL         278         1      278\n",
       "13        13  13-06-2022  799  Dark Blue   XL         264         1      264\n",
       "14        14  14-06-2022  799  Dark Blue    M         264         1      264\n",
       "18        16  14-06-2022  708  Dark Blue   XL         278         1      278\n",
       "19        17  15-06-2022  708  Dark Blue  2XL         278         1      278"
      ]
     },
     "execution_count": 43,
     "metadata": {},
     "output_type": "execute_result"
    }
   ],
   "source": [
    "df.head(15)"
   ]
  },
  {
   "cell_type": "code",
   "execution_count": 81,
   "id": "11e250ac-8b3e-4ec5-af0b-9c1ddfab5eb9",
   "metadata": {},
   "outputs": [],
   "source": [
    "df.loc[:, 'sku'] = df['sku'].astype(int)"
   ]
  },
  {
   "cell_type": "code",
   "execution_count": 83,
   "id": "fc536404-9926-4233-ae20-7af199298c98",
   "metadata": {},
   "outputs": [
    {
     "name": "stdout",
     "output_type": "stream",
     "text": [
      "<class 'pandas.core.frame.DataFrame'>\n",
      "DatetimeIndex: 474 entries, 2022-06-01 to 2022-09-09\n",
      "Data columns (total 7 columns):\n",
      " #   Column      Non-Null Count  Dtype \n",
      "---  ------      --------------  ----- \n",
      " 0   order_id    474 non-null    int64 \n",
      " 1   sku         474 non-null    object\n",
      " 2   color       474 non-null    object\n",
      " 3   size        474 non-null    object\n",
      " 4   unit_price  474 non-null    int64 \n",
      " 5   quantity    474 non-null    int64 \n",
      " 6   revenue     474 non-null    int64 \n",
      "dtypes: int64(4), object(3)\n",
      "memory usage: 29.6+ KB\n"
     ]
    }
   ],
   "source": [
    "df.info()"
   ]
  },
  {
   "cell_type": "code",
   "execution_count": 49,
   "id": "68db1524-dfd0-4509-b409-13e94f6d4e16",
   "metadata": {},
   "outputs": [
    {
     "name": "stdout",
     "output_type": "stream",
     "text": [
      "object\n"
     ]
    }
   ],
   "source": [
    "print(df['order_date'].dtype)"
   ]
  },
  {
   "cell_type": "code",
   "execution_count": 51,
   "id": "cd355f59-8c09-42dd-97a3-d22412841109",
   "metadata": {},
   "outputs": [],
   "source": [
    "df['order_date'] = pd.to_datetime(df['order_date'], dayfirst=True, errors='coerce')"
   ]
  },
  {
   "cell_type": "code",
   "execution_count": 53,
   "id": "b66bbbc0-3beb-45ae-80fc-a7fe3c0ba7e7",
   "metadata": {},
   "outputs": [
    {
     "data": {
      "image/png": "[encoded data removed]",
      "text/plain": [
       "<Figure size 1000x500 with 1 Axes>"
      ]
     },
     "metadata": {},
     "output_type": "display_data"
    }
   ],
   "source": [
    "# Ensure order_date is in datetime format\n",
    "df['order_date'] = pd.to_datetime(df['order_date'], dayfirst=True, errors='coerce')\n",
    "\n",
    "# Set order_date as the index\n",
    "df.set_index('order_date', inplace=True)\n",
    "\n",
    "# Group by week and sum the revenue\n",
    "weekly_revenue = df.resample('W')['revenue'].sum()\n",
    "\n",
    "# Plot the weekly revenue\n",
    "import matplotlib.pyplot as plt\n",
    "\n",
    "plt.figure(figsize=(10, 5))\n",
    "weekly_revenue.plot(marker='o', color='orange')\n",
    "plt.title(\"Weekly Revenue Trend\")\n",
    "plt.xlabel(\"Week\")\n",
    "plt.ylabel(\"Total Revenue\")\n",
    "plt.grid(True)\n",
    "plt.tight_layout()\n",
    "plt.show()\n"
   ]
  },
  {
   "cell_type": "code",
   "execution_count": 74,
   "id": "ab63692c-217e-4476-b128-cad9f3cb6d63",
   "metadata": {},
   "outputs": [
    {
     "data": {
      "image/png": "[encoded data removed]",
      "text/plain": [
       "<Figure size 400x300 with 2 Axes>"
      ]
     },
     "metadata": {},
     "output_type": "display_data"
    }
   ],
   "source": [
    "plt.figure(figsize=(4, 3))\n",
    "sns.heatmap(df[['unit_price', 'quantity', 'revenue']].corr(), annot=True, cmap='Blues')\n",
    "plt.title(\"Correlation Matrix\")\n",
    "plt.tight_layout()\n",
    "plt.show()\n"
   ]
  },
  {
   "cell_type": "code",
   "execution_count": 7,
   "id": "93ff8832-4c84-432d-9804-dfb239d96e52",
   "metadata": {},
   "outputs": [
    {
     "name": "stdout",
     "output_type": "stream",
     "text": [
      "Best-selling SKU: 799 with revenue 79182\n",
      "Worst-selling SKU: 29 with revenue 227\n"
     ]
    }
   ],
   "source": [
    "# Group by SKU and calculate total revenue\n",
    "sku_sales = df.groupby('sku')['revenue'].sum().sort_values(ascending=False)\n",
    "\n",
    "# Best-selling SKU\n",
    "best_sku = sku_sales.idxmax()\n",
    "best_sku_value = sku_sales.max()\n",
    "\n",
    "# Worst-selling SKU\n",
    "worst_sku = sku_sales.idxmin()\n",
    "worst_sku_value = sku_sales.min()\n",
    "\n",
    "print(f\"Best-selling SKU: {best_sku} with revenue {best_sku_value}\")\n",
    "print(f\"Worst-selling SKU: {worst_sku} with revenue {worst_sku_value}\")\n"
   ]
  },
  {
   "cell_type": "code",
   "execution_count": 55,
   "id": "8a022bf2-7b9d-41f9-8aed-640c225acd5e",
   "metadata": {},
   "outputs": [
    {
     "name": "stderr",
     "output_type": "stream",
     "text": [
      "C:\\Users\\bhavi\\AppData\\Local\\Temp\\ipykernel_15228\\1763487414.py:8: FutureWarning: \n",
      "\n",
      "Passing `palette` without assigning `hue` is deprecated and will be removed in v0.14.0. Assign the `x` variable to `hue` and set `legend=False` for the same effect.\n",
      "\n",
      "  sns.barplot(x='sku', y='revenue', data=top_skus, palette='viridis')\n"
     ]
    },
    {
     "data": {
      "image/png": "[encoded data removed]",
      "text/plain": [
       "<Figure size 800x400 with 1 Axes>"
      ]
     },
     "metadata": {},
     "output_type": "display_data"
    }
   ],
   "source": [
    "sku_revenue = df.groupby('sku')['revenue'].sum()\n",
    "\n",
    "plt.figure(figsize=(6, 4))\n",
    "sku_revenue.plot(kind='bar', color='skyblue')\n",
    "plt.title(\"Revenue by SKU\")\n",
    "plt.xlabel(\"SKU\")\n",
    "plt.ylabel(\"Revenue\")\n",
    "plt.xticks(rotation=0)\n",
    "plt.tight_layout()\n",
    "plt.show()\n"
   ]
  },
  {
   "cell_type": "code",
   "execution_count": 65,
   "id": "ea45c668-2289-4afc-8f4d-a229dd3f2f9f",
   "metadata": {},
   "outputs": [
    {
     "name": "stderr",
     "output_type": "stream",
     "text": [
      "C:\\Users\\bhavi\\AppData\\Local\\Temp\\ipykernel_15228\\3908053451.py:5: FutureWarning: \n",
      "\n",
      "Passing `palette` without assigning `hue` is deprecated and will be removed in v0.14.0. Assign the `x` variable to `hue` and set `legend=False` for the same effect.\n",
      "\n",
      "  sns.barplot(x='sku', y='revenue', data=bottom_skus, palette='coolwarm')\n"
     ]
    },
    {
     "data": {
      "image/png": "[encoded data removed]",
      "text/plain": [
       "<Figure size 800x400 with 1 Axes>"
      ]
     },
     "metadata": {},
     "output_type": "display_data"
    }
   ],
   "source": [
    "# Bottom 10 SKUs by revenue\n",
    "bottom_skus = df.groupby('sku')['revenue'].sum().sort_values(ascending=True).head(10).reset_index()\n",
    "\n",
    "plt.figure(figsize=(8, 4))\n",
    "sns.barplot(x='sku', y='revenue', data=bottom_skus, palette='coolwarm')\n",
    "plt.title(\"Bottom 10 Worst-Selling SKUs by Revenue\")\n",
    "plt.xlabel(\"SKU\")\n",
    "plt.ylabel(\"Total Revenue\")\n",
    "plt.tight_layout()\n",
    "plt.show()\n",
    "\n"
   ]
  },
  {
   "cell_type": "code",
   "execution_count": null,
   "id": "90690e62-cad4-4a7f-8dee-36ecdccba5a3",
   "metadata": {},
   "outputs": [],
   "source": []
  }
 ],
 "metadata": {
  "kernelspec": {
   "display_name": "Python [conda env:base] *",
   "language": "python",
   "name": "conda-base-py"
  },
  "language_info": {
   "codemirror_mode": {
    "name": "ipython",
    "version": 3
   },
   "file_extension": ".py",
   "mimetype": "text/x-python",
   "name": "python",
   "nbconvert_exporter": "python",
   "pygments_lexer": "ipython3",
   "version": "3.12.7"
  }
 },
 "nbformat": 4,
 "nbformat_minor": 5
}
